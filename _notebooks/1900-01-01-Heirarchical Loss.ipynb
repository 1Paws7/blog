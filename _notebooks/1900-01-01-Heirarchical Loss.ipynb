{
 "cells": [
  {
   "cell_type": "markdown",
   "metadata": {},
   "source": [
    "# Heirarchical Loss Function\n",
    "> Creating a fine grain image classifier - Pet Breeds!\n",
    "\n",
    "- toc: true \n",
    "- badges: true\n",
    "- comments: true\n",
    "- author: Isaac Flath\n",
    "- categories: [Neural Networks, Image Classification]"
   ]
  },
  {
   "cell_type": "markdown",
   "metadata": {},
   "source": [
    "# Intro\n",
    "\n",
    "For this post, I am going to make a modification to the loss function.  The goal will be to weight losses differently.\n",
    "\n",
    "In this blog we are going to do an image classification to take pet pictures and predict the breed.  Normally, each class is treated the same when calculating the loss function.  In this post I will explore a change to take into account weighting classes differently. For example, If a picture is a maincoon, predicting a maincoon (wrong type of cat) is less egregious of an error than predicting pitbull.  I want my loss function to reflect this.\n",
    "\n",
    "I am going to skim over loading the data and training the model, feel free to see my Fine Grain Image Classifier post from Jun-27-2020 if you want more detail on those aspect."
   ]
  },
  {
   "cell_type": "markdown",
   "metadata": {},
   "source": [
    "# Setup\n",
    "\n",
    "### Library Import and Dataset Download"
   ]
  },
  {
   "cell_type": "code",
   "execution_count": null,
   "metadata": {},
   "outputs": [],
   "source": [
    "from fastai2.vision.all import *\n",
    "\n",
    "seed = 42\n",
    "\n",
    "# Download and get path for dataseet\n",
    "path = untar_data(URLs.PETS) #Sample dataset from fastai2\n",
    "img = (path/'images').ls()[0]"
   ]
  },
  {
   "cell_type": "markdown",
   "metadata": {},
   "source": [
    "### Data Prep\n",
    "\n",
    "Load the Data in a data block, take a look at the classes and scale the images down a bit so the problem isn't too easy."
   ]
  },
  {
   "cell_type": "code",
   "execution_count": null,
   "metadata": {},
   "outputs": [],
   "source": [
    "pets = DataBlock(\n",
    "    blocks = (ImageBlock, CategoryBlock),\n",
    "    get_items = get_image_files,\n",
    "    splitter= RandomSplitter(valid_pct = 0.2, seed=seed),\n",
    "    get_y= using_attr(RegexLabeller(r'(.+)_\\d+.jpg$'),'name'),\n",
    "    item_tfms=Resize(460),\n",
    "    batch_tfms=aug_transforms(min_scale = 0.9,size=56)\n",
    ")"
   ]
  },
  {
   "cell_type": "code",
   "execution_count": null,
   "metadata": {},
   "outputs": [],
   "source": [
    "dls = pets.dataloaders(path/\"images\",bs=64)\n",
    "dls.show_batch()"
   ]
  },
  {
   "cell_type": "code",
   "execution_count": null,
   "metadata": {},
   "outputs": [],
   "source": [
    "# first 12 classes are casts, next 25 are dogs\n",
    "pet_type = ['cat']*12+['dog']*25"
   ]
  },
  {
   "cell_type": "markdown",
   "metadata": {},
   "source": [
    "# Custom Stuff\n",
    "\n",
    "### Metrics\n",
    "\n",
    "I need to measure the accuracy at the 2 levels in the heirarchy.  The goal is that I can impact them differently by modifying the weights in my loss function.  This will be the metrics to determine is this approach is working or not."
   ]
  },
  {
   "cell_type": "code",
   "execution_count": null,
   "metadata": {},
   "outputs": [],
   "source": [
    "def accuracy_breed(inp, targ, axis=-1):\n",
    "    \"Compute accuracy with `targ` when `pred` is bs * n_classes\"\n",
    "    pred,targ = flatten_check(inp.argmax(dim=axis), targ)\n",
    "    return (pred == targ).float().mean()\n",
    "\n",
    "def accuracy_species(inp, targ, axis=-1):\n",
    "    temp = [torch.argmax(x) for x in inp]\n",
    "    \n",
    "    new_inp = tensor([(x > 11).int() for x in temp])    \n",
    "    new_targ = tensor([(x > 11).int() for x in targ])\n",
    "\n",
    "    return (new_inp == new_targ).float().mean()"
   ]
  },
  {
   "cell_type": "markdown",
   "metadata": {},
   "source": [
    "### Loss Function\n",
    "\n",
    "The loss functions are what will actually be optimized.  I am summing a cross entropy loss as the 2 levels of heirarchy.  I then use a weight to change the proportion of which level I use."
   ]
  },
  {
   "cell_type": "code",
   "execution_count": null,
   "metadata": {},
   "outputs": [],
   "source": [
    "from torch.nn.functional import nll_loss,log_softmax\n",
    "\n",
    "\n",
    "\n",
    "def cross_entropy_species(input, target, weight=None, size_average=None, ignore_index=-100,\n",
    "                  reduce=None, reduction='mean'):\n",
    "    \n",
    "    input_p = torch.softmax(input,dim=-1)\n",
    "    \n",
    "    return nll_loss(torch.log(input_p), target, None, None, ignore_index, None, reduction)\n",
    "\n",
    "def cross_entropy_breed(input, target, weight=None, size_average=None, ignore_index=-100,\n",
    "                  reduce=None, reduction='mean'):\n",
    "    \n",
    "    # softmax to convert scores to probabilities\n",
    "    input_p = torch.softmax(input,dim=1)\n",
    "    \n",
    "    # changes from many classes down to 2 classes for both input and target\n",
    "    \n",
    "    # Sum the probabilities for all the cat breeds to get probability it's a cat.  Same for dog\n",
    "    cats = torch.sum(input_p[:,0:12],dim=1).view(input_p.shape[0],1)\n",
    "    dogs = torch.sum(input_p[:,12:37],dim=1).view(input_p.shape[0],1)  \n",
    "    \n",
    "    # format new inputs and new targets for 2 classes\n",
    "    new_input = torch.cat([cats,dogs],-1)\n",
    "    new_target = TensorCategory((target > 11).long(),device='cuda:0')\n",
    "\n",
    "    return nll_loss(torch.log(new_input), new_target, None, None, ignore_index, None, reduction)\n",
    "\n",
    "def final_loss(input, target, w=1, weight=None, size_average=None, ignore_index=-100,\n",
    "                  reduce=None, reduction='mean'):\n",
    "    ce_species = cross_entropy_species(input, target, weight=None, size_average=None, ignore_index=-100,\n",
    "                  reduce=None, reduction='mean')\n",
    "    \n",
    "    ce_breed = cross_entropy_breed(input, target, weight=None, size_average=None, ignore_index=-100,\n",
    "                  reduce=None, reduction='mean')\n",
    "    \n",
    "    # weighted proportion of these, w should be a number between 0 and 1 ideally.\n",
    "    return w*ce_species+(1-w)*ce_breed\n",
    "    "
   ]
  },
  {
   "cell_type": "markdown",
   "metadata": {},
   "source": [
    "# Expiraments\n",
    "\n",
    "Run tests for different weights.  Run 5 at each weight so we can see how it performs with random initializations (ie getting stuck in local minimums)."
   ]
  },
  {
   "cell_type": "code",
   "execution_count": null,
   "metadata": {},
   "outputs": [],
   "source": [
    "from functools import partial\n",
    "weights = np.array(range(0,21))/20\n",
    "results = pd.DataFrame()\n",
    "id_num = 1\n",
    "for w in weights:\n",
    "    for i in range(0,5):\n",
    "        print(w)\n",
    "        tmp_loss = partial(final_loss,w=w)\n",
    "        learn = cnn_learner(dls, resnet18, metrics=[accuracy_breed,accuracy_species], pretrained=True, loss_func = tmp_loss)\n",
    "        learn.fine_tune(3)\n",
    "\n",
    "        df = pd.DataFrame(learn.recorder.values)\n",
    "        df.columns = learn.recorder.metric_names[1:-1]\n",
    "        df['w'] = w\n",
    "        df['id'] = id_num\n",
    "        \n",
    "        results = results.append(df)\n",
    "        \n",
    "        id_num = id_num + 1\n",
    "        \n",
    "        learn = None\n",
    "        torch.cuda.empty_cache()"
   ]
  },
  {
   "cell_type": "code",
   "execution_count": null,
   "metadata": {},
   "outputs": [],
   "source": [
    "# Save results for analysis later\n",
    "results.to_csv('results.csv')"
   ]
  },
  {
   "cell_type": "code",
   "execution_count": null,
   "metadata": {},
   "outputs": [],
   "source": []
  }
 ],
 "metadata": {
  "kernelspec": {
   "display_name": "Python 3",
   "language": "python",
   "name": "python3"
  },
  "language_info": {
   "codemirror_mode": {
    "name": "ipython",
    "version": 3
   },
   "file_extension": ".py",
   "mimetype": "text/x-python",
   "name": "python",
   "nbconvert_exporter": "python",
   "pygments_lexer": "ipython3",
   "version": "3.7.7"
  }
 },
 "nbformat": 4,
 "nbformat_minor": 4
}
