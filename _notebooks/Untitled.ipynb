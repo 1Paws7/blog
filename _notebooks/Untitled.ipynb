{
 "cells": [
  {
   "cell_type": "code",
   "execution_count": 2,
   "metadata": {},
   "outputs": [
    {
     "data": {
      "text/html": [
       "<div>\n",
       "<style scoped>\n",
       "    .dataframe tbody tr th:only-of-type {\n",
       "        vertical-align: middle;\n",
       "    }\n",
       "\n",
       "    .dataframe tbody tr th {\n",
       "        vertical-align: top;\n",
       "    }\n",
       "\n",
       "    .dataframe thead th {\n",
       "        text-align: right;\n",
       "    }\n",
       "</style>\n",
       "<table border=\"1\" class=\"dataframe\">\n",
       "  <thead>\n",
       "    <tr style=\"text-align: right;\">\n",
       "      <th></th>\n",
       "      <th>publication</th>\n",
       "      <th>min(date)</th>\n",
       "      <th>max(date)</th>\n",
       "      <th>cnt</th>\n",
       "    </tr>\n",
       "  </thead>\n",
       "  <tbody>\n",
       "    <tr>\n",
       "      <th>0</th>\n",
       "      <td>Buzzfeed News</td>\n",
       "      <td>2016-02-19 00:00:00</td>\n",
       "      <td>2020-04-02 00:00:00</td>\n",
       "      <td>32819</td>\n",
       "    </tr>\n",
       "    <tr>\n",
       "      <th>1</th>\n",
       "      <td>The New York Times</td>\n",
       "      <td>2016-01-01 00:00:00</td>\n",
       "      <td>2020-04-01 13:42:08</td>\n",
       "      <td>252259</td>\n",
       "    </tr>\n",
       "    <tr>\n",
       "      <th>2</th>\n",
       "      <td>Business Insider</td>\n",
       "      <td>2016-01-01 03:08:00</td>\n",
       "      <td>2020-04-01 01:48:46</td>\n",
       "      <td>57953</td>\n",
       "    </tr>\n",
       "    <tr>\n",
       "      <th>3</th>\n",
       "      <td>Washington Post</td>\n",
       "      <td>2016-06-10 00:00:00</td>\n",
       "      <td>2020-04-01 00:00:00</td>\n",
       "      <td>40882</td>\n",
       "    </tr>\n",
       "    <tr>\n",
       "      <th>4</th>\n",
       "      <td>TMZ</td>\n",
       "      <td>2016-01-01 00:00:00</td>\n",
       "      <td>2020-04-01 00:00:00</td>\n",
       "      <td>49595</td>\n",
       "    </tr>\n",
       "    <tr>\n",
       "      <th>5</th>\n",
       "      <td>Refinery 29</td>\n",
       "      <td>2016-01-01 07:00:00</td>\n",
       "      <td>2020-04-01 00:00:00</td>\n",
       "      <td>111433</td>\n",
       "    </tr>\n",
       "    <tr>\n",
       "      <th>6</th>\n",
       "      <td>Vox</td>\n",
       "      <td>2016-01-01 01:41:26</td>\n",
       "      <td>2020-03-31 23:50:00</td>\n",
       "      <td>47272</td>\n",
       "    </tr>\n",
       "    <tr>\n",
       "      <th>7</th>\n",
       "      <td>The Verge</td>\n",
       "      <td>2016-01-01 00:00:00</td>\n",
       "      <td>2020-03-31 00:00:00</td>\n",
       "      <td>52424</td>\n",
       "    </tr>\n",
       "    <tr>\n",
       "      <th>8</th>\n",
       "      <td>Hyperallergic</td>\n",
       "      <td>2016-01-01 00:00:00</td>\n",
       "      <td>2020-03-31 00:00:00</td>\n",
       "      <td>13551</td>\n",
       "    </tr>\n",
       "    <tr>\n",
       "      <th>9</th>\n",
       "      <td>CNN</td>\n",
       "      <td>2016-01-01</td>\n",
       "      <td>2020-03-31 00:00:00</td>\n",
       "      <td>127602</td>\n",
       "    </tr>\n",
       "    <tr>\n",
       "      <th>10</th>\n",
       "      <td>CNBC</td>\n",
       "      <td>2016-01-01</td>\n",
       "      <td>2020-03-31 00:00:00</td>\n",
       "      <td>238096</td>\n",
       "    </tr>\n",
       "    <tr>\n",
       "      <th>11</th>\n",
       "      <td>TechCrunch</td>\n",
       "      <td>2016-01-01 08:00:19</td>\n",
       "      <td>2020-03-30 10:57:55</td>\n",
       "      <td>52095</td>\n",
       "    </tr>\n",
       "    <tr>\n",
       "      <th>12</th>\n",
       "      <td>Wired</td>\n",
       "      <td>2016-01-01</td>\n",
       "      <td>2020-03-30 00:00:00</td>\n",
       "      <td>20243</td>\n",
       "    </tr>\n",
       "    <tr>\n",
       "      <th>13</th>\n",
       "      <td>Reuters</td>\n",
       "      <td>2016-01-01</td>\n",
       "      <td>2020-03-30 00:00:00</td>\n",
       "      <td>840094</td>\n",
       "    </tr>\n",
       "    <tr>\n",
       "      <th>14</th>\n",
       "      <td>New Republic</td>\n",
       "      <td>2016-01-01</td>\n",
       "      <td>2020-03-30 00:00:00</td>\n",
       "      <td>11809</td>\n",
       "    </tr>\n",
       "    <tr>\n",
       "      <th>15</th>\n",
       "      <td>Mashable</td>\n",
       "      <td>2016-01-01</td>\n",
       "      <td>2020-03-30 00:00:00</td>\n",
       "      <td>94107</td>\n",
       "    </tr>\n",
       "    <tr>\n",
       "      <th>16</th>\n",
       "      <td>Economist</td>\n",
       "      <td>2016-01-01 00:00:00</td>\n",
       "      <td>2020-03-30 00:00:00</td>\n",
       "      <td>26227</td>\n",
       "    </tr>\n",
       "    <tr>\n",
       "      <th>17</th>\n",
       "      <td>Vice</td>\n",
       "      <td>2016-01-01 00:00:00</td>\n",
       "      <td>2020-03-29 15:17:00</td>\n",
       "      <td>101137</td>\n",
       "    </tr>\n",
       "    <tr>\n",
       "      <th>18</th>\n",
       "      <td>The Hill</td>\n",
       "      <td>2016-01-01</td>\n",
       "      <td>2020-03-26 00:00:00</td>\n",
       "      <td>208411</td>\n",
       "    </tr>\n",
       "    <tr>\n",
       "      <th>19</th>\n",
       "      <td>Politico</td>\n",
       "      <td>2016-01-01</td>\n",
       "      <td>2020-03-26 00:00:00</td>\n",
       "      <td>46377</td>\n",
       "    </tr>\n",
       "    <tr>\n",
       "      <th>20</th>\n",
       "      <td>New Yorker</td>\n",
       "      <td>2016-01-04</td>\n",
       "      <td>2020-02-17 00:00:00</td>\n",
       "      <td>4701</td>\n",
       "    </tr>\n",
       "    <tr>\n",
       "      <th>21</th>\n",
       "      <td>Axios</td>\n",
       "      <td>2016-12-23 00:00:00</td>\n",
       "      <td>2020-01-01 00:00:00</td>\n",
       "      <td>47815</td>\n",
       "    </tr>\n",
       "    <tr>\n",
       "      <th>22</th>\n",
       "      <td>People</td>\n",
       "      <td>2016-01-01 00:05:00</td>\n",
       "      <td>2019-12-15 22:40:00</td>\n",
       "      <td>136488</td>\n",
       "    </tr>\n",
       "    <tr>\n",
       "      <th>23</th>\n",
       "      <td>Gizmodo</td>\n",
       "      <td>2016-01-01</td>\n",
       "      <td>2019-10-15 00:00:00</td>\n",
       "      <td>27228</td>\n",
       "    </tr>\n",
       "    <tr>\n",
       "      <th>24</th>\n",
       "      <td>Vice News</td>\n",
       "      <td>2016-01-01 00:00:00</td>\n",
       "      <td>2019-08-07 00:00:00</td>\n",
       "      <td>15539</td>\n",
       "    </tr>\n",
       "    <tr>\n",
       "      <th>25</th>\n",
       "      <td></td>\n",
       "      <td></td>\n",
       "      <td>2019-03-08 00:00:00</td>\n",
       "      <td>12578</td>\n",
       "    </tr>\n",
       "    <tr>\n",
       "      <th>26</th>\n",
       "      <td>Fox News</td>\n",
       "      <td>2016-04-09</td>\n",
       "      <td>2018-08-14</td>\n",
       "      <td>20144</td>\n",
       "    </tr>\n",
       "  </tbody>\n",
       "</table>\n",
       "</div>"
      ],
      "text/plain": [
       "           publication            min(date)            max(date)     cnt\n",
       "0        Buzzfeed News  2016-02-19 00:00:00  2020-04-02 00:00:00   32819\n",
       "1   The New York Times  2016-01-01 00:00:00  2020-04-01 13:42:08  252259\n",
       "2     Business Insider  2016-01-01 03:08:00  2020-04-01 01:48:46   57953\n",
       "3      Washington Post  2016-06-10 00:00:00  2020-04-01 00:00:00   40882\n",
       "4                  TMZ  2016-01-01 00:00:00  2020-04-01 00:00:00   49595\n",
       "5          Refinery 29  2016-01-01 07:00:00  2020-04-01 00:00:00  111433\n",
       "6                  Vox  2016-01-01 01:41:26  2020-03-31 23:50:00   47272\n",
       "7            The Verge  2016-01-01 00:00:00  2020-03-31 00:00:00   52424\n",
       "8        Hyperallergic  2016-01-01 00:00:00  2020-03-31 00:00:00   13551\n",
       "9                  CNN           2016-01-01  2020-03-31 00:00:00  127602\n",
       "10                CNBC           2016-01-01  2020-03-31 00:00:00  238096\n",
       "11          TechCrunch  2016-01-01 08:00:19  2020-03-30 10:57:55   52095\n",
       "12               Wired           2016-01-01  2020-03-30 00:00:00   20243\n",
       "13             Reuters           2016-01-01  2020-03-30 00:00:00  840094\n",
       "14        New Republic           2016-01-01  2020-03-30 00:00:00   11809\n",
       "15            Mashable           2016-01-01  2020-03-30 00:00:00   94107\n",
       "16           Economist  2016-01-01 00:00:00  2020-03-30 00:00:00   26227\n",
       "17                Vice  2016-01-01 00:00:00  2020-03-29 15:17:00  101137\n",
       "18            The Hill           2016-01-01  2020-03-26 00:00:00  208411\n",
       "19            Politico           2016-01-01  2020-03-26 00:00:00   46377\n",
       "20          New Yorker           2016-01-04  2020-02-17 00:00:00    4701\n",
       "21               Axios  2016-12-23 00:00:00  2020-01-01 00:00:00   47815\n",
       "22              People  2016-01-01 00:05:00  2019-12-15 22:40:00  136488\n",
       "23             Gizmodo           2016-01-01  2019-10-15 00:00:00   27228\n",
       "24           Vice News  2016-01-01 00:00:00  2019-08-07 00:00:00   15539\n",
       "25                                           2019-03-08 00:00:00   12578\n",
       "26            Fox News           2016-04-09           2018-08-14   20144"
      ]
     },
     "execution_count": 2,
     "metadata": {},
     "output_type": "execute_result"
    }
   ],
   "source": [
    "import pandas as pd\n",
    "import sqlite3\n",
    "from pathlib import Path\n",
    "from fastai.text.all import *\n",
    "\n",
    "path = Path('../../../data/all-the-news')\n",
    "con = sqlite3.connect(path/'all_the_news.db')\n",
    "\n",
    "pub_stats = pd.read_sql_query('SELECT publication, min(date),max(date), count(*) as cnt from news group by publication order by max(date) desc', con)\n",
    "pub_stats"
   ]
  },
  {
   "cell_type": "code",
   "execution_count": 3,
   "metadata": {},
   "outputs": [
    {
     "data": {
      "text/plain": [
       "0"
      ]
     },
     "execution_count": 3,
     "metadata": {},
     "output_type": "execute_result"
    }
   ],
   "source": [
    "torch.cuda.set_device(0)\n",
    "torch.cuda.current_device()"
   ]
  },
  {
   "cell_type": "code",
   "execution_count": 19,
   "metadata": {},
   "outputs": [
    {
     "data": {
      "text/html": [],
      "text/plain": [
       "<IPython.core.display.HTML object>"
      ]
     },
     "metadata": {},
     "output_type": "display_data"
    },
    {
     "name": "stderr",
     "output_type": "stream",
     "text": [
      "/home/user/anaconda3/envs/fastai/lib/python3.7/site-packages/numpy/core/_asarray.py:83: VisibleDeprecationWarning: Creating an ndarray from ragged nested sequences (which is a list-or-tuple of lists-or-tuples-or ndarrays with different lengths or shapes) is deprecated. If you meant to do this, you must specify 'dtype=object' when creating the ndarray\n",
      "  return array(a, dtype, copy=False, order=order)\n"
     ]
    }
   ],
   "source": [
    "publisher = 'The New York Times'\n",
    "records = '75000'\n",
    "query = f\"SELECT article from news where publication = '%s' and length(article) > 10 order by random() limit %s\"%(publisher,records)\n",
    "df = pd.read_sql_query(query,con)\n",
    "bs=128\n",
    "dls = TextDataLoaders.from_df(df, text_col='article', is_lm=True,bs = bs)"
   ]
  },
  {
   "cell_type": "code",
   "execution_count": 32,
   "metadata": {},
   "outputs": [
    {
     "name": "stdout",
     "output_type": "stream",
     "text": [
      ". models\n"
     ]
    }
   ],
   "source": [
    "iteration = '2'\n",
    "fname = f'lm_all_%s_%sArticles_%s'%(publisher,records,str(iteration))\n",
    "learn = language_model_learner(dls, AWD_LSTM, metrics=accuracy)\n",
    "print(learn.path,learn.model_dir)"
   ]
  },
  {
   "cell_type": "code",
   "execution_count": 40,
   "metadata": {},
   "outputs": [
    {
     "data": {
      "text/html": [],
      "text/plain": [
       "<IPython.core.display.HTML object>"
      ]
     },
     "metadata": {},
     "output_type": "display_data"
    },
    {
     "name": "stdout",
     "output_type": "stream",
     "text": [
      "In the United States , immigration is a part different put . Bobbitt is about to\n"
     ]
    },
    {
     "data": {
      "text/html": [],
      "text/plain": [
       "<IPython.core.display.HTML object>"
      ]
     },
     "metadata": {},
     "output_type": "display_data"
    },
    {
     "name": "stdout",
     "output_type": "stream",
     "text": [
      "In the United States , immigration is decade , it is debt , jerusalem . GROUP\n"
     ]
    }
   ],
   "source": [
    "learn = learn.load(fname)\n",
    "\n",
    "for x in range(0,2):\n",
    "    print(learn.predict('In the United States, immigration is',n_words=10))"
   ]
  },
  {
   "cell_type": "code",
   "execution_count": 42,
   "metadata": {},
   "outputs": [
    {
     "data": {
      "text/html": [],
      "text/plain": [
       "<IPython.core.display.HTML object>"
      ]
     },
     "metadata": {},
     "output_type": "display_data"
    },
    {
     "name": "stdout",
     "output_type": "stream",
     "text": [
      "In the United States , abortion is including cure planning , if lot not institution have been\n"
     ]
    },
    {
     "data": {
      "text/html": [],
      "text/plain": [
       "<IPython.core.display.HTML object>"
      ]
     },
     "metadata": {},
     "output_type": "display_data"
    },
    {
     "name": "stdout",
     "output_type": "stream",
     "text": [
      "In the United States , abortion is learning only each good government , everything and translation dozens\n"
     ]
    }
   ],
   "source": [
    "for x in range(0,2):\n",
    "    print(learn.predict('In the United States, abortion is',n_words=10))"
   ]
  },
  {
   "cell_type": "code",
   "execution_count": 35,
   "metadata": {},
   "outputs": [
    {
     "data": {
      "text/html": [],
      "text/plain": [
       "<IPython.core.display.HTML object>"
      ]
     },
     "metadata": {},
     "output_type": "display_data"
    },
    {
     "name": "stdout",
     "output_type": "stream",
     "text": [
      "In the United States , minorities are at an misspelled child vowing for fighting officials , and\n"
     ]
    },
    {
     "data": {
      "text/html": [],
      "text/plain": [
       "<IPython.core.display.HTML object>"
      ]
     },
     "metadata": {},
     "output_type": "display_data"
    },
    {
     "name": "stdout",
     "output_type": "stream",
     "text": [
      "In the United States , minorities are kill a performance ann of candidates that is only wilson\n"
     ]
    }
   ],
   "source": [
    "for x in range(0,2):\n",
    "    print(learn.predict('In the United States, minorities are',n_words=10))"
   ]
  },
  {
   "cell_type": "code",
   "execution_count": 36,
   "metadata": {},
   "outputs": [
    {
     "data": {
      "text/html": [],
      "text/plain": [
       "<IPython.core.display.HTML object>"
      ]
     },
     "metadata": {},
     "output_type": "display_data"
    },
    {
     "name": "stdout",
     "output_type": "stream",
     "text": [
      "In terms of the economy , immigration is russian the most feelings around to start in a place\n"
     ]
    },
    {
     "data": {
      "text/html": [],
      "text/plain": [
       "<IPython.core.display.HTML object>"
      ]
     },
     "metadata": {},
     "output_type": "display_data"
    },
    {
     "name": "stdout",
     "output_type": "stream",
     "text": [
      "In terms of the economy , immigration is artists to speed . Cyril onetime , it paying\n"
     ]
    }
   ],
   "source": [
    "for x in range(0,2):\n",
    "    print(learn.predict('In terms of the economy, immigration is',n_words=10))"
   ]
  },
  {
   "cell_type": "code",
   "execution_count": 37,
   "metadata": {},
   "outputs": [
    {
     "data": {
      "text/html": [],
      "text/plain": [
       "<IPython.core.display.HTML object>"
      ]
     },
     "metadata": {},
     "output_type": "display_data"
    },
    {
     "name": "stdout",
     "output_type": "stream",
     "text": [
      "In terms of the economy , abortion is a killed . think those the Tech ’ve\n"
     ]
    },
    {
     "data": {
      "text/html": [],
      "text/plain": [
       "<IPython.core.display.HTML object>"
      ]
     },
     "metadata": {},
     "output_type": "display_data"
    },
    {
     "name": "stdout",
     "output_type": "stream",
     "text": [
      "In terms of the economy , abortion is children back for many people and is peter dublin to\n"
     ]
    }
   ],
   "source": [
    "for x in range(0,2):\n",
    "    print(learn.predict('In terms of the economy, abortion is',n_words=10))"
   ]
  },
  {
   "cell_type": "code",
   "execution_count": 38,
   "metadata": {},
   "outputs": [
    {
     "data": {
      "text/html": [],
      "text/plain": [
       "<IPython.core.display.HTML object>"
      ]
     },
     "metadata": {},
     "output_type": "display_data"
    },
    {
     "name": "stdout",
     "output_type": "stream",
     "text": [
      "In terms of the economy , minorities are sympathetic result in interviews you talked than in most preparing\n"
     ]
    },
    {
     "data": {
      "text/html": [],
      "text/plain": [
       "<IPython.core.display.HTML object>"
      ]
     },
     "metadata": {},
     "output_type": "display_data"
    },
    {
     "name": "stdout",
     "output_type": "stream",
     "text": [
      "In terms of the economy , minorities are demands charged by u.k roughly . On a\n"
     ]
    }
   ],
   "source": [
    "for x in range(0,2):\n",
    "    print(learn.predict('In terms of the economy, minorities are',n_words=10))"
   ]
  },
  {
   "cell_type": "code",
   "execution_count": 39,
   "metadata": {},
   "outputs": [
    {
     "data": {
      "text/html": [],
      "text/plain": [
       "<IPython.core.display.HTML object>"
      ]
     },
     "metadata": {},
     "output_type": "display_data"
    },
    {
     "name": "stdout",
     "output_type": "stream",
     "text": [
      "Black people are disproportionately logo , which the wives of being leaders to impressive\n"
     ]
    },
    {
     "data": {
      "text/html": [],
      "text/plain": [
       "<IPython.core.display.HTML object>"
      ]
     },
     "metadata": {},
     "output_type": "display_data"
    },
    {
     "name": "stdout",
     "output_type": "stream",
     "text": [
      "Black people are disproportionately running , even so their canterbury or fostered are only\n"
     ]
    }
   ],
   "source": [
    "for x in range(0,2):\n",
    "    print(learn.predict('Black people are disproportionately',n_words=10))"
   ]
  },
  {
   "cell_type": "code",
   "execution_count": null,
   "metadata": {},
   "outputs": [],
   "source": []
  },
  {
   "cell_type": "code",
   "execution_count": null,
   "metadata": {},
   "outputs": [],
   "source": []
  }
 ],
 "metadata": {
  "kernelspec": {
   "display_name": "Python 3",
   "language": "python",
   "name": "python3"
  }
 },
 "nbformat": 4,
 "nbformat_minor": 4
}
