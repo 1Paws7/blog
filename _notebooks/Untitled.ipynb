{
 "cells": [
  {
   "cell_type": "markdown",
   "metadata": {},
   "source": [
    "To Create a Learner I need:\n",
    "+ Weights and Biases\n",
    "+ Optimizer\n",
    "+ Model"
   ]
  },
  {
   "cell_type": "code",
   "execution_count": 1,
   "metadata": {},
   "outputs": [],
   "source": [
    "from fastai.vision.all import *"
   ]
  },
  {
   "cell_type": "code",
   "execution_count": 4,
   "metadata": {},
   "outputs": [
    {
     "data": {
      "text/plain": [
       "(#5) [Path('/home/isaacflath/.fastai/data/mnist_tiny/test'),Path('/home/isaacflath/.fastai/data/mnist_tiny/models'),Path('/home/isaacflath/.fastai/data/mnist_tiny/train'),Path('/home/isaacflath/.fastai/data/mnist_tiny/valid'),Path('/home/isaacflath/.fastai/data/mnist_tiny/labels.csv')]"
      ]
     },
     "execution_count": 4,
     "metadata": {},
     "output_type": "execute_result"
    }
   ],
   "source": [
    "# This command downloads the MNIST_TINY dataset and returns the path where it was downloaded\n",
    "path = untar_data(URLs.MNIST_TINY)\n",
    "\n",
    "path.ls()"
   ]
  },
  {
   "cell_type": "code",
   "execution_count": 6,
   "metadata": {},
   "outputs": [
    {
     "data": {
      "image/png": "[encoded data removed]",
      "text/plain": [
       "<Figure size 648x648 with 9 Axes>"
      ]
     },
     "metadata": {
      "needs_background": "light"
     },
     "output_type": "display_data"
    }
   ],
   "source": [
    "dls = ImageDataLoaders.from_folder(path)\n",
    "dls.train"
   ]
  },
  {
   "cell_type": "code",
   "execution_count": null,
   "metadata": {},
   "outputs": [],
   "source": [
    "class Learner:\n",
    "    def __init__(self,w,b)\n",
    "        weight =\n",
    "        bias = \n",
    "        model =\n",
    "    \n",
    "    def init_params(self):\n",
    "        \n",
    "    def train_epoch(self):\n",
    "        \n",
    "    def process_batch(self):\n",
    "        \n",
    "    "
   ]
  },
  {
   "cell_type": "code",
   "execution_count": null,
   "metadata": {},
   "outputs": [],
   "source": [
    "def model(wb,weight,b)\n",
    "    w"
   ]
  },
  {
   "cell_type": "code",
   "execution_count": 11,
   "metadata": {},
   "outputs": [
    {
     "data": {
      "text/plain": [
       "(64, 3, 28, 28)"
      ]
     },
     "execution_count": 11,
     "metadata": {},
     "output_type": "execute_result"
    }
   ],
   "source": [
    "dls.one_batch()[0].shape"
   ]
  },
  {
   "cell_type": "code",
   "execution_count": 14,
   "metadata": {},
   "outputs": [
    {
     "data": {
      "text/plain": [
       "Learner.__base__\n",
       "Learner.__bases__\n",
       "Learner.__basicsize__\n",
       "Learner.__call__\n",
       "Learner.__class__\n",
       "Learner.__delattr__\n",
       "Learner.__dict__\n",
       "Learner.__dictoffset__\n",
       "Learner.__dir__\n",
       "Learner.__doc__\n",
       "Learner.__enter__\n",
       "Learner.__eq__\n",
       "Learner.__exit__\n",
       "Learner.__flags__\n",
       "Learner.__format__\n",
       "Learner.__ge__\n",
       "Learner.__getattribute__\n",
       "Learner.__gt__\n",
       "Learner.__hash__\n",
       "Learner.__init__\n",
       "Learner.__init_subclass__\n",
       "Learner.__instancecheck__\n",
       "Learner.__itemsize__\n",
       "Learner.__le__\n",
       "Learner.__lt__\n",
       "Learner.__module__\n",
       "Learner.__mro__\n",
       "Learner.__name__\n",
       "Learner.__ne__\n",
       "Learner.__new__\n",
       "Learner.__prepare__\n",
       "Learner.__qualname__\n",
       "Learner.__reduce__\n",
       "Learner.__reduce_ex__\n",
       "Learner.__repr__\n",
       "Learner.__setattr__\n",
       "Learner.__sizeof__\n",
       "Learner.__str__\n",
       "Learner.__subclasscheck__\n",
       "Learner.__subclasses__\n",
       "Learner.__subclasshook__\n",
       "Learner.__text_signature__\n",
       "Learner.__weakref__\n",
       "Learner.__weakrefoffset__\n",
       "Learner.add_cb\n",
       "Learner.add_cbs\n",
       "Learner.added_cbs\n",
       "Learner.all_batches\n",
       "Learner.create_opt\n",
       "Learner.export\n",
       "Learner.fine_tune\n",
       "Learner.fit\n",
       "Learner.fit_flat_cos\n",
       "Learner.fit_one_cycle\n",
       "Learner.fit_sgdr\n",
       "Learner.freeze\n",
       "Learner.freeze_to\n",
       "Learner.get_preds\n",
       "Learner.load\n",
       "Learner.loss_not_reduced\n",
       "Learner.lr_find\n",
       "Learner.metrics\n",
       "Learner.mro\n",
       "Learner.no_bar\n",
       "Learner.no_logging\n",
       "Learner.no_mbar\n",
       "Learner.one_batch\n",
       "Learner.ordered_cbs\n",
       "Learner.predict\n",
       "Learner.remove_cb\n",
       "Learner.remove_cbs\n",
       "Learner.removed_cbs\n",
       "Learner.save\n",
       "Learner.show_results\n",
       "Learner.show_training_loop\n",
       "Learner.summary\n",
       "Learner.to_detach\n",
       "Learner.to_fp16\n",
       "Learner.to_fp32\n",
       "Learner.to_native_fp16\n",
       "Learner.to_native_fp32\n",
       "Learner.tta\n",
       "Learner.unfreeze\n",
       "Learner.validate\n",
       "Learner.validation_context\n",
       "Learner.x\n",
       "Learner.y"
      ]
     },
     "metadata": {},
     "output_type": "display_data"
    }
   ],
   "source": [
    "Learner.*?"
   ]
  },
  {
   "cell_type": "code",
   "execution_count": null,
   "metadata": {},
   "outputs": [],
   "source": []
  }
 ],
 "metadata": {
  "kernelspec": {
   "display_name": "Python 3",
   "language": "python",
   "name": "python3"
  },
  "language_info": {
   "codemirror_mode": {
    "name": "ipython",
    "version": 3
   },
   "file_extension": ".py",
   "mimetype": "text/x-python",
   "name": "python",
   "nbconvert_exporter": "python",
   "pygments_lexer": "ipython3",
   "version": "3.8.5"
  }
 },
 "nbformat": 4,
 "nbformat_minor": 4
}
