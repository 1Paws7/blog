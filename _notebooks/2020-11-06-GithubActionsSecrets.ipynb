{
 "cells": [
  {
   "cell_type": "markdown",
   "metadata": {
    "heading_collapsed": true
   },
   "source": [
    "# Secrets in NBdev CI\n",
    "\n",
    "> A guide for showing how to add secrets and keys to NBdev CI\n",
    "\n",
    "- toc: true \n",
    "- badges: true\n",
    "- comments: true\n",
    "- author: Isaac Flath\n",
    "- categories: [CI, GithubActions, NBDEV]"
   ]
  },
  {
   "cell_type": "markdown",
   "metadata": {},
   "source": [
    "# Intro\n",
    "\n",
    "**Goal:** The goal of this article is to walk through how to store encrypted secrets in Github Actions for the purpose of using these for NBDev's CI. From this post you will see how to add secrets to any Github Action, but the focus of this post is on NBDev Continuous Integration\n",
    "\n",
    "**What's Included in this post:** The minimum needed to get secrets stored in a specific repositories Github Action.\n",
    "\n",
    "**Where can I find something more detailed on this topic?** [Github Docs](https://docs.github.com/en/free-pro-team@latest/actions/reference/encrypted-secret).  This guide is *mostly* a subset of information that in on that page."
   ]
  },
  {
   "cell_type": "markdown",
   "metadata": {},
   "source": [
    "# Background\n",
    "\n",
    "**What is NBDEV?**  [NBDev](https://nbdev.fast.ai/) is a development environment for python.  It allows for \"Real\" development in jupyter notebooks that will automatically build documentation, run tests, and build the library based on those notebooks.  All code, tests, and documentation is written in Jupyter notebooks and the rest is automated to convert it into the appropriate formats.\n",
    "\n",
    "**What is a Github Action?**  A github action is a piece of code that you run on a specific trigger.  For example, when updates are committed to Github, NBDev runs all the notebooks (which includes tests) to ensure that all tests still pass."
   ]
  },
  {
   "cell_type": "markdown",
   "metadata": {},
   "source": [
    "# How to"
   ]
  },
  {
   "cell_type": "markdown",
   "metadata": {},
   "source": [
    "### Create Encrypted Secrets for Repo"
   ]
  },
  {
   "cell_type": "markdown",
   "metadata": {},
   "source": [
    "> Note:  It is possible to create encrypted secrets for an organization, but that will not be covered in this guide\n",
    "\n",
    "In your Repository go to **Settings -> Secrets -> Add New Secret** and add your secret\n",
    "\n",
    "![](my_icons/SecretAdd.png)"
   ]
  },
  {
   "cell_type": "markdown",
   "metadata": {},
   "source": [
    "### Adding to Github Action"
   ]
  },
  {
   "cell_type": "markdown",
   "metadata": {},
   "source": [
    ">Note: I am demonstrating how to add a secret to the NBDev CI action, though the same thing can be done in any Github Action.\n",
    "\n",
    "In your reposity go to **Actions -> CI -> Select most recent result**.\n",
    "\n",
    "![](my_icons/Action.png)"
   ]
  },
  {
   "cell_type": "markdown",
   "metadata": {},
   "source": [
    "**Select the Edit Symbol** and add our \"SUPERSECRET\" to the environment in the \"Run Tests\" section.  We will do this by adding the following code which will store our secret \"SUPERSECRET\" that we created in the repo earlier, and put that as an environment variable \"SUPER_SECRET\".\n",
    "\n",
    "```yaml\n",
    "    env:\n",
    "      SUPER_SECRET: ${{ secrets.SUPERSECRET }}\n",
    "```\n",
    "\n",
    ">Note:  I could add multiple secrets here instead of just one, with 1 secret per line.\n",
    "\n",
    "Here is what it looks like in the full workflow file.\n",
    "\n",
    "![](my_icons/WorkflowFile.png)"
   ]
  },
  {
   "cell_type": "markdown",
   "metadata": {},
   "source": [
    "### Accessing in Python\n",
    "\n",
    "Now, we can access this environment variable in the normal way in python.\n",
    "\n",
    "```python\n",
    "import os\n",
    "superSecretKey = os.environ['SUPER_SECRET']\n",
    "```"
   ]
  }
 ],
 "metadata": {
  "kernelspec": {
   "display_name": "Python 3",
   "language": "python",
   "name": "python3"
  },
  "language_info": {
   "codemirror_mode": {
    "name": "ipython",
    "version": 3
   },
   "file_extension": ".py",
   "mimetype": "text/x-python",
   "name": "python",
   "nbconvert_exporter": "python",
   "pygments_lexer": "ipython3",
   "version": "3.8.5"
  }
 },
 "nbformat": 4,
 "nbformat_minor": 4
}
