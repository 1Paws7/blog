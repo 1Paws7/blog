{
 "cells": [
  {
   "cell_type": "markdown",
   "metadata": {},
   "source": [
    "# Jupyter Notebook Tutorial\n",
    "> A tutorial of core functionality of Jupyter Notebooks to have an enjoyable coding experience.\n",
    "\n",
    "- toc: true \n",
    "- badges: true\n",
    "- comments: true\n",
    "- author: Isaac Flath\n",
    "- categories: [jupyter]\n",
    "- image: images/1200px-Jupyter_logo.svg.png"
   ]
  },
  {
   "cell_type": "markdown",
   "metadata": {
    "slideshow": {
     "slide_type": "slide"
    }
   },
   "source": [
    "# Top 3 uses:\n",
    "1. Exploratory analysis, model creation, data science, any kind of coding that require lots of rapid expiramentation and iteration.\n",
    "1. Tutorials, guides, and blogs (like this one).  Because you have a great mix of text functionality with code, they work really well for tutorials and guides.  Rather than having static images, or code snippits that have to get updated each iteration, the code is part of the guide and it really simplifies the process.  Notebooks can be exported directly to html and be opened in any browser to give to people.  With the easy conversion to html, naturally it's easy to post them on a web page.\n",
    "1.  Technical presentations of results.  You can have the actual code analysis done, with text explanations.  Excess code can be collapsed so that if someone asks really detailed questions you can expand and have every piece of detail.  Changes to the analysis are in the presentation so no need to save and put static images in other documents\n"
   ]
  },
  {
   "cell_type": "markdown",
   "metadata": {
    "slideshow": {
     "slide_type": "slide"
    }
   },
   "source": [
    "# Cell Types\n",
    "\n",
    "A cell can be 3 different types.  The most useful are code cells and markdown cells.\n",
    "\n",
    "### Code Cells\n",
    "    - Code cells run code  The next few cells are examples of code cells\n",
    "    - While the most common application is Python, you can set up environments easily to use R, swift, and other languages within jupyter notebooks\n",
    "### Markdown Cells\n",
    "    - This cell is a markdown cell.  It is really nice for adding details and text explanations in where a code comment is not enough\n",
    "    - They have all the normal markdown functionality, plus more.  For example, I can write any technical or mathy stuff using latex, or create html tables in markdown or html.\n",
    "    - I can also make markdown tables.\n",
    "   \n",
    "##### Latex Formulas\n",
    "\n",
    "\n",
    "$$\\begin{bmatrix}w_1&w_2&w_3&w_4&w_5\\\\x_1&x_2&x_3&x_4&x_5\\\\y_1&y_2&y_3&y_4&y_5\\\\z_1&z_2&z_3&z_4&z_5\\end{bmatrix}$$\n",
    "\n",
    "$\\begin{align}\n",
    "\\frac{dy}{du} &= f'(u) = e^u = e^{\\sin(x^2)}, \\\\\n",
    "\\frac{du}{dv} &= g'(v) = \\cos v = \\cos(x^2), \\\\\n",
    "\\frac{dv}{dx} &= h'(x) = 2x.\n",
    "\\end{align}$\n",
    "\n",
    "##### Markdown Table\n",
    "\n",
    "| This | is   | a     | table | for   | demos |\n",
    "|------|------|-------|-------|-------|-------|\n",
    "| perc | 55%  | 22%   | 23%   | 12%   | 53%   |\n",
    "| qty  | 23   | 19    | 150   | 9     | 92    |"
   ]
  },
  {
   "cell_type": "code",
   "execution_count": 1,
   "metadata": {},
   "outputs": [],
   "source": [
    "#collapse-hide\n",
    "import numpy as np\n",
    "import matplotlib.pyplot as plt\n",
    "import pandas as pd\n",
    "import seaborn as sns\n",
    "\n",
    "pd.options.display.max_columns = None\n",
    "pd.options.display.max_rows = None\n",
    "\n",
    "%matplotlib inline"
   ]
  },
  {
   "cell_type": "markdown",
   "metadata": {},
   "source": [
    "# Running Code\n",
    "\n",
    "Naturally you can run code cells and print to the Jupyter Notebook"
   ]
  },
  {
   "cell_type": "code",
   "execution_count": 2,
   "metadata": {},
   "outputs": [
    {
     "name": "stdout",
     "output_type": "stream",
     "text": [
      "0\n",
      "10\n",
      "20\n",
      "30\n",
      "40\n"
     ]
    }
   ],
   "source": [
    "for x in range(0,5):\n",
    "    print(x*10)"
   ]
  },
  {
   "cell_type": "markdown",
   "metadata": {},
   "source": [
    "# DataFrames"
   ]
  },
  {
   "cell_type": "code",
   "execution_count": 3,
   "metadata": {},
   "outputs": [
    {
     "data": {
      "text/html": [
       "<div>\n",
       "<style scoped>\n",
       "    .dataframe tbody tr th:only-of-type {\n",
       "        vertical-align: middle;\n",
       "    }\n",
       "\n",
       "    .dataframe tbody tr th {\n",
       "        vertical-align: top;\n",
       "    }\n",
       "\n",
       "    .dataframe thead th {\n",
       "        text-align: right;\n",
       "    }\n",
       "</style>\n",
       "<table border=\"1\" class=\"dataframe\">\n",
       "  <thead>\n",
       "    <tr style=\"text-align: right;\">\n",
       "      <th></th>\n",
       "      <th>sepal_length</th>\n",
       "      <th>sepal_width</th>\n",
       "      <th>petal_length</th>\n",
       "      <th>petal_width</th>\n",
       "      <th>species</th>\n",
       "    </tr>\n",
       "  </thead>\n",
       "  <tbody>\n",
       "    <tr>\n",
       "      <td>105</td>\n",
       "      <td>7.6</td>\n",
       "      <td>3.0</td>\n",
       "      <td>6.6</td>\n",
       "      <td>2.1</td>\n",
       "      <td>virginica</td>\n",
       "    </tr>\n",
       "    <tr>\n",
       "      <td>107</td>\n",
       "      <td>7.3</td>\n",
       "      <td>2.9</td>\n",
       "      <td>6.3</td>\n",
       "      <td>1.8</td>\n",
       "      <td>virginica</td>\n",
       "    </tr>\n",
       "    <tr>\n",
       "      <td>109</td>\n",
       "      <td>7.2</td>\n",
       "      <td>3.6</td>\n",
       "      <td>6.1</td>\n",
       "      <td>2.5</td>\n",
       "      <td>virginica</td>\n",
       "    </tr>\n",
       "    <tr>\n",
       "      <td>117</td>\n",
       "      <td>7.7</td>\n",
       "      <td>3.8</td>\n",
       "      <td>6.7</td>\n",
       "      <td>2.2</td>\n",
       "      <td>virginica</td>\n",
       "    </tr>\n",
       "    <tr>\n",
       "      <td>118</td>\n",
       "      <td>7.7</td>\n",
       "      <td>2.6</td>\n",
       "      <td>6.9</td>\n",
       "      <td>2.3</td>\n",
       "      <td>virginica</td>\n",
       "    </tr>\n",
       "    <tr>\n",
       "      <td>122</td>\n",
       "      <td>7.7</td>\n",
       "      <td>2.8</td>\n",
       "      <td>6.7</td>\n",
       "      <td>2.0</td>\n",
       "      <td>virginica</td>\n",
       "    </tr>\n",
       "    <tr>\n",
       "      <td>130</td>\n",
       "      <td>7.4</td>\n",
       "      <td>2.8</td>\n",
       "      <td>6.1</td>\n",
       "      <td>1.9</td>\n",
       "      <td>virginica</td>\n",
       "    </tr>\n",
       "    <tr>\n",
       "      <td>131</td>\n",
       "      <td>7.9</td>\n",
       "      <td>3.8</td>\n",
       "      <td>6.4</td>\n",
       "      <td>2.0</td>\n",
       "      <td>virginica</td>\n",
       "    </tr>\n",
       "    <tr>\n",
       "      <td>135</td>\n",
       "      <td>7.7</td>\n",
       "      <td>3.0</td>\n",
       "      <td>6.1</td>\n",
       "      <td>2.3</td>\n",
       "      <td>virginica</td>\n",
       "    </tr>\n",
       "  </tbody>\n",
       "</table>\n",
       "</div>"
      ],
      "text/plain": [
       "     sepal_length  sepal_width  petal_length  petal_width    species\n",
       "105           7.6          3.0           6.6          2.1  virginica\n",
       "107           7.3          2.9           6.3          1.8  virginica\n",
       "109           7.2          3.6           6.1          2.5  virginica\n",
       "117           7.7          3.8           6.7          2.2  virginica\n",
       "118           7.7          2.6           6.9          2.3  virginica\n",
       "122           7.7          2.8           6.7          2.0  virginica\n",
       "130           7.4          2.8           6.1          1.9  virginica\n",
       "131           7.9          3.8           6.4          2.0  virginica\n",
       "135           7.7          3.0           6.1          2.3  virginica"
      ]
     },
     "execution_count": 3,
     "metadata": {},
     "output_type": "execute_result"
    }
   ],
   "source": [
    "iris = sns.load_dataset('iris')\n",
    "iris[iris.petal_length > 6]"
   ]
  },
  {
   "cell_type": "markdown",
   "metadata": {},
   "source": [
    "# Plotting\n",
    "Below we are going to make a few graphs to get the point accross.  Naturally, each graph can be accompanied with a markdown cell that gives context and explains the value of that graph."
   ]
  },
  {
   "cell_type": "markdown",
   "metadata": {},
   "source": [
    "### Line Chart"
   ]
  },
  {
   "cell_type": "code",
   "execution_count": 4,
   "metadata": {},
   "outputs": [
    {
     "data": {
      "image/png": "[encoded data removed]",
      "text/plain": [
       "<Figure size 432x288 with 1 Axes>"
      ]
     },
     "metadata": {
      "needs_background": "light"
     },
     "output_type": "display_data"
    }
   ],
   "source": [
    "# evenly sampled time at 200ms intervals\n",
    "t = np.arange(0., 5., 0.2)\n",
    "\n",
    "# red dashes, blue squares and green triangles\n",
    "plt.plot(t, t, 'r--', t, t**2, 'bs', t, t**3, 'g^')\n",
    "plt.show()"
   ]
  },
  {
   "cell_type": "markdown",
   "metadata": {},
   "source": [
    "### Scatter Plot\n",
    "\n",
    "Sometimes we will want to display a graph, but may not want all the code and details to be immediately visable.  In these examples we can create a scatter plot like below, but collapse the code cell.\n",
    "\n",
    "This is great when you want to show a graph and explain it, but the details of how the graph was created aren't that important. "
   ]
  },
  {
   "cell_type": "code",
   "execution_count": 5,
   "metadata": {},
   "outputs": [
    {
     "data": {
      "image/png": "[encoded data removed]",
      "text/plain": [
       "<Figure size 432x288 with 1 Axes>"
      ]
     },
     "metadata": {
      "needs_background": "light"
     },
     "output_type": "display_data"
    }
   ],
   "source": [
    "#collapse-hide\n",
    "data = {'a': np.arange(50),\n",
    "        'c': np.random.randint(0, 50, 50),\n",
    "        'd': np.random.randn(50)}\n",
    "data['b'] = data['a'] + 10 * np.random.randn(50)\n",
    "data['d'] = np.abs(data['d']) * 100\n",
    "\n",
    "plt.scatter('a', 'b', c='c', s='d', data=data)\n",
    "plt.xlabel('entry a')\n",
    "plt.ylabel('entry b')\n",
    "plt.show()"
   ]
  },
  {
   "cell_type": "markdown",
   "metadata": {},
   "source": [
    "### Categorical Plot\n",
    "\n",
    "We can create subplots to have multiple plots show up.  This can be especially helpful when showing lots of the same information, or showing how 2 different metrics are related or need to be analyzed together"
   ]
  },
  {
   "cell_type": "code",
   "execution_count": 6,
   "metadata": {},
   "outputs": [
    {
     "data": {
      "image/png": "[encoded data removed]",
      "text/plain": [
       "<Figure size 648x216 with 3 Axes>"
      ]
     },
     "metadata": {
      "needs_background": "light"
     },
     "output_type": "display_data"
    }
   ],
   "source": [
    "#collapse-hide\n",
    "names = ['group_a', 'group_b', 'group_c']\n",
    "values = [1, 10, 100]\n",
    "\n",
    "plt.figure(figsize=(9, 3))\n",
    "\n",
    "plt.subplot(131)\n",
    "plt.bar(names, values)\n",
    "plt.subplot(132)\n",
    "plt.scatter(names, values)\n",
    "plt.subplot(133)\n",
    "plt.plot(names, values)\n",
    "plt.suptitle('Categorical Plotting')\n",
    "plt.show()"
   ]
  },
  {
   "cell_type": "markdown",
   "metadata": {},
   "source": [
    "# Stack Traces\n",
    "\n",
    "When you run into an error, by default jupyter notebooks give you whatever the error message is, but also the entire stack trace.\n",
    "\n",
    "There is a debug functionality, but I find that these stack traces and jupyter cells work even better than a debugger.  I can break my code into as many cells as I want and run things interactively.  Here's a few examples of stack traces."
   ]
  },
  {
   "cell_type": "markdown",
   "metadata": {},
   "source": [
    "### Matrix Multiplication Good\n",
    "\n",
    "Now we are going to show an example of errors where the stack trace isn't as simple.  Suppose we are trying to multiply 2 arrays together (matrix multiplication).\n"
   ]
  },
  {
   "cell_type": "code",
   "execution_count": 7,
   "metadata": {},
   "outputs": [
    {
     "data": {
      "text/plain": [
       "array([[165, 168, 136],\n",
       "       [272, 252, 217],\n",
       "       [402, 368, 321]])"
      ]
     },
     "execution_count": 7,
     "metadata": {},
     "output_type": "execute_result"
    }
   ],
   "source": [
    "a = np.array([\n",
    "                [1,2,4],\n",
    "                [3,4,5],\n",
    "                [5,6,7]\n",
    "            ])\n",
    "b = np.array([\n",
    "                [11,12,14],\n",
    "                [31,14,15],\n",
    "                [23,32,23]\n",
    "            ])\n",
    "a@b"
   ]
  },
  {
   "cell_type": "markdown",
   "metadata": {},
   "source": [
    "### Matrix Multiplication Bad\n",
    "\n",
    "Now if it errors because the columns from matrix a don't match the rows from matrix b, we will get an error as matrix multiplication is impossible with those matrices.  We see the same idea s the above for loop, stack trace with error and arrow pointing at the line that failed"
   ]
  },
  {
   "cell_type": "code",
   "execution_count": 8,
   "metadata": {},
   "outputs": [
    {
     "ename": "ValueError",
     "evalue": "matmul: Input operand 1 has a mismatch in its core dimension 0, with gufunc signature (n?,k),(k,m?)->(n?,m?) (size 2 is different from 3)",
     "output_type": "error",
     "traceback": [
      "\u001b[0;31m---------------------------------------------------------------------------\u001b[0m",
      "\u001b[0;31mValueError\u001b[0m                                Traceback (most recent call last)",
      "\u001b[0;32m<ipython-input-8-52272ca444fc>\u001b[0m in \u001b[0;36m<module>\u001b[0;34m\u001b[0m\n\u001b[1;32m      9\u001b[0m                 \u001b[0;34m[\u001b[0m\u001b[0;36m31\u001b[0m\u001b[0;34m,\u001b[0m\u001b[0;36m14\u001b[0m\u001b[0;34m,\u001b[0m\u001b[0;36m15\u001b[0m\u001b[0;34m]\u001b[0m\u001b[0;34m\u001b[0m\u001b[0;34m\u001b[0m\u001b[0m\n\u001b[1;32m     10\u001b[0m             ])\n\u001b[0;32m---> 11\u001b[0;31m \u001b[0ma\u001b[0m\u001b[0;34m@\u001b[0m\u001b[0mb\u001b[0m\u001b[0;34m\u001b[0m\u001b[0;34m\u001b[0m\u001b[0m\n\u001b[0m",
      "\u001b[0;31mValueError\u001b[0m: matmul: Input operand 1 has a mismatch in its core dimension 0, with gufunc signature (n?,k),(k,m?)->(n?,m?) (size 2 is different from 3)"
     ]
    }
   ],
   "source": [
    "# here's another\n",
    "a = np.array([\n",
    "                [1,2,4],\n",
    "                [3,4,5],\n",
    "                [5,6,7]\n",
    "            ])\n",
    "b = np.array([\n",
    "                [11,12,14],\n",
    "                [31,14,15]\n",
    "            ])\n",
    "a@b"
   ]
  },
  {
   "cell_type": "markdown",
   "metadata": {},
   "source": [
    "### Second Layer of Bad\n",
    "\n",
    "But what if the line we call isn't what fails?  What if what I run works, but the function underneath fails?\n",
    "\n",
    "In these example, you see the entire trace. It starts with are arrow at what you ran that errored.  It then shows an arrow that your code called that caused the error, so you can track all the way back to the source.  Here's how it shows a two step stack trace, but it can be as long as needed."
   ]
  },
  {
   "cell_type": "code",
   "execution_count": 9,
   "metadata": {},
   "outputs": [],
   "source": [
    "def matmul(a,b):\n",
    "    c = a@b\n",
    "    return c"
   ]
  },
  {
   "cell_type": "code",
   "execution_count": 10,
   "metadata": {},
   "outputs": [
    {
     "ename": "ValueError",
     "evalue": "matmul: Input operand 1 has a mismatch in its core dimension 0, with gufunc signature (n?,k),(k,m?)->(n?,m?) (size 2 is different from 3)",
     "output_type": "error",
     "traceback": [
      "\u001b[0;31m---------------------------------------------------------------------------\u001b[0m",
      "\u001b[0;31mValueError\u001b[0m                                Traceback (most recent call last)",
      "\u001b[0;32m<ipython-input-10-7853c1c27063>\u001b[0m in \u001b[0;36m<module>\u001b[0;34m\u001b[0m\n\u001b[0;32m----> 1\u001b[0;31m \u001b[0mmatmul\u001b[0m\u001b[0;34m(\u001b[0m\u001b[0ma\u001b[0m\u001b[0;34m,\u001b[0m\u001b[0mb\u001b[0m\u001b[0;34m)\u001b[0m\u001b[0;34m\u001b[0m\u001b[0;34m\u001b[0m\u001b[0m\n\u001b[0m",
      "\u001b[0;32m<ipython-input-9-1c8b6b954779>\u001b[0m in \u001b[0;36mmatmul\u001b[0;34m(a, b)\u001b[0m\n\u001b[1;32m      1\u001b[0m \u001b[0;32mdef\u001b[0m \u001b[0mmatmul\u001b[0m\u001b[0;34m(\u001b[0m\u001b[0ma\u001b[0m\u001b[0;34m,\u001b[0m\u001b[0mb\u001b[0m\u001b[0;34m)\u001b[0m\u001b[0;34m:\u001b[0m\u001b[0;34m\u001b[0m\u001b[0;34m\u001b[0m\u001b[0m\n\u001b[0;32m----> 2\u001b[0;31m     \u001b[0mc\u001b[0m \u001b[0;34m=\u001b[0m \u001b[0ma\u001b[0m\u001b[0;34m@\u001b[0m\u001b[0mb\u001b[0m\u001b[0;34m\u001b[0m\u001b[0;34m\u001b[0m\u001b[0m\n\u001b[0m\u001b[1;32m      3\u001b[0m     \u001b[0;32mreturn\u001b[0m \u001b[0mc\u001b[0m\u001b[0;34m\u001b[0m\u001b[0;34m\u001b[0m\u001b[0m\n",
      "\u001b[0;31mValueError\u001b[0m: matmul: Input operand 1 has a mismatch in its core dimension 0, with gufunc signature (n?,k),(k,m?)->(n?,m?) (size 2 is different from 3)"
     ]
    }
   ],
   "source": [
    "matmul(a,b)"
   ]
  },
  {
   "cell_type": "markdown",
   "metadata": {},
   "source": [
    "# Magic Commands\n",
    "\n",
    "Magic commands are special commands for Juptyer Notebooks.  They give you incredible functionality and you will likley find the experience very frustrating without them.  A few that I use often are:\n",
    "+ ? | put a question mark or 2 after a function or method to get the documentation.  ?? gives more detail than ?.  I can also use it to wild card search modules for functions.\n",
    "+ shift tab | when you are writing something holding shift + tab will open a mini popup with the documentation for that thing.  It may be a funciton, method, or module.\n",
    "+ ```%who``` or ```%whos``` or ```%who_ls``` | These are all variants that list the objects and variables.  I prefer %whos most of the time\n",
    "+ ```%history``` | This allows you to look at the last pieces of code that you ran\n",
    "+ $$ | wrapping latex code in dollar signs in a markdown cell renders latex code in markdown cells\n",
    "+ ! | putting ! at the beginning of a line makes it run that in terminal.  For example ```!ls | grep .csv```\n",
    "+ ```%time``` | I can use this to time the execution of things"
   ]
  },
  {
   "cell_type": "code",
   "execution_count": 11,
   "metadata": {},
   "outputs": [
    {
     "data": {
      "text/plain": [
       "np.array\n",
       "np.array2string\n",
       "np.array_equal\n",
       "np.array_equiv\n",
       "np.array_repr\n",
       "np.array_split\n",
       "np.array_str\n",
       "np.asanyarray\n",
       "np.asarray\n",
       "np.asarray_chkfinite\n",
       "np.ascontiguousarray\n",
       "np.asfarray\n",
       "np.asfortranarray\n",
       "np.broadcast_arrays\n",
       "np.chararray\n",
       "np.compare_chararrays\n",
       "np.get_array_wrap\n",
       "np.ndarray\n",
       "np.numarray\n",
       "np.recarray"
      ]
     },
     "metadata": {},
     "output_type": "display_data"
    }
   ],
   "source": [
    "np.*array*?"
   ]
  },
  {
   "cell_type": "code",
   "execution_count": 12,
   "metadata": {},
   "outputs": [
    {
     "data": {
      "text/plain": [
       "\u001b[0;31mSignature:\u001b[0m \u001b[0mnp\u001b[0m\u001b[0;34m.\u001b[0m\u001b[0marray_equal\u001b[0m\u001b[0;34m(\u001b[0m\u001b[0ma1\u001b[0m\u001b[0;34m,\u001b[0m \u001b[0ma2\u001b[0m\u001b[0;34m)\u001b[0m\u001b[0;34m\u001b[0m\u001b[0;34m\u001b[0m\u001b[0m\n",
       "\u001b[0;31mSource:\u001b[0m   \n",
       "\u001b[0;34m@\u001b[0m\u001b[0marray_function_dispatch\u001b[0m\u001b[0;34m(\u001b[0m\u001b[0m_array_equal_dispatcher\u001b[0m\u001b[0;34m)\u001b[0m\u001b[0;34m\u001b[0m\n",
       "\u001b[0;34m\u001b[0m\u001b[0;32mdef\u001b[0m \u001b[0marray_equal\u001b[0m\u001b[0;34m(\u001b[0m\u001b[0ma1\u001b[0m\u001b[0;34m,\u001b[0m \u001b[0ma2\u001b[0m\u001b[0;34m)\u001b[0m\u001b[0;34m:\u001b[0m\u001b[0;34m\u001b[0m\n",
       "\u001b[0;34m\u001b[0m    \u001b[0;34m\"\"\"\u001b[0m\n",
       "\u001b[0;34m    True if two arrays have the same shape and elements, False otherwise.\u001b[0m\n",
       "\u001b[0;34m\u001b[0m\n",
       "\u001b[0;34m    Parameters\u001b[0m\n",
       "\u001b[0;34m    ----------\u001b[0m\n",
       "\u001b[0;34m    a1, a2 : array_like\u001b[0m\n",
       "\u001b[0;34m        Input arrays.\u001b[0m\n",
       "\u001b[0;34m\u001b[0m\n",
       "\u001b[0;34m    Returns\u001b[0m\n",
       "\u001b[0;34m    -------\u001b[0m\n",
       "\u001b[0;34m    b : bool\u001b[0m\n",
       "\u001b[0;34m        Returns True if the arrays are equal.\u001b[0m\n",
       "\u001b[0;34m\u001b[0m\n",
       "\u001b[0;34m    See Also\u001b[0m\n",
       "\u001b[0;34m    --------\u001b[0m\n",
       "\u001b[0;34m    allclose: Returns True if two arrays are element-wise equal within a\u001b[0m\n",
       "\u001b[0;34m              tolerance.\u001b[0m\n",
       "\u001b[0;34m    array_equiv: Returns True if input arrays are shape consistent and all\u001b[0m\n",
       "\u001b[0;34m                 elements equal.\u001b[0m\n",
       "\u001b[0;34m\u001b[0m\n",
       "\u001b[0;34m    Examples\u001b[0m\n",
       "\u001b[0;34m    --------\u001b[0m\n",
       "\u001b[0;34m    >>> np.array_equal([1, 2], [1, 2])\u001b[0m\n",
       "\u001b[0;34m    True\u001b[0m\n",
       "\u001b[0;34m    >>> np.array_equal(np.array([1, 2]), np.array([1, 2]))\u001b[0m\n",
       "\u001b[0;34m    True\u001b[0m\n",
       "\u001b[0;34m    >>> np.array_equal([1, 2], [1, 2, 3])\u001b[0m\n",
       "\u001b[0;34m    False\u001b[0m\n",
       "\u001b[0;34m    >>> np.array_equal([1, 2], [1, 4])\u001b[0m\n",
       "\u001b[0;34m    False\u001b[0m\n",
       "\u001b[0;34m\u001b[0m\n",
       "\u001b[0;34m    \"\"\"\u001b[0m\u001b[0;34m\u001b[0m\n",
       "\u001b[0;34m\u001b[0m    \u001b[0;32mtry\u001b[0m\u001b[0;34m:\u001b[0m\u001b[0;34m\u001b[0m\n",
       "\u001b[0;34m\u001b[0m        \u001b[0ma1\u001b[0m\u001b[0;34m,\u001b[0m \u001b[0ma2\u001b[0m \u001b[0;34m=\u001b[0m \u001b[0masarray\u001b[0m\u001b[0;34m(\u001b[0m\u001b[0ma1\u001b[0m\u001b[0;34m)\u001b[0m\u001b[0;34m,\u001b[0m \u001b[0masarray\u001b[0m\u001b[0;34m(\u001b[0m\u001b[0ma2\u001b[0m\u001b[0;34m)\u001b[0m\u001b[0;34m\u001b[0m\n",
       "\u001b[0;34m\u001b[0m    \u001b[0;32mexcept\u001b[0m \u001b[0mException\u001b[0m\u001b[0;34m:\u001b[0m\u001b[0;34m\u001b[0m\n",
       "\u001b[0;34m\u001b[0m        \u001b[0;32mreturn\u001b[0m \u001b[0;32mFalse\u001b[0m\u001b[0;34m\u001b[0m\n",
       "\u001b[0;34m\u001b[0m    \u001b[0;32mif\u001b[0m \u001b[0ma1\u001b[0m\u001b[0;34m.\u001b[0m\u001b[0mshape\u001b[0m \u001b[0;34m!=\u001b[0m \u001b[0ma2\u001b[0m\u001b[0;34m.\u001b[0m\u001b[0mshape\u001b[0m\u001b[0;34m:\u001b[0m\u001b[0;34m\u001b[0m\n",
       "\u001b[0;34m\u001b[0m        \u001b[0;32mreturn\u001b[0m \u001b[0;32mFalse\u001b[0m\u001b[0;34m\u001b[0m\n",
       "\u001b[0;34m\u001b[0m    \u001b[0;32mreturn\u001b[0m \u001b[0mbool\u001b[0m\u001b[0;34m(\u001b[0m\u001b[0masarray\u001b[0m\u001b[0;34m(\u001b[0m\u001b[0ma1\u001b[0m \u001b[0;34m==\u001b[0m \u001b[0ma2\u001b[0m\u001b[0;34m)\u001b[0m\u001b[0;34m.\u001b[0m\u001b[0mall\u001b[0m\u001b[0;34m(\u001b[0m\u001b[0;34m)\u001b[0m\u001b[0;34m)\u001b[0m\u001b[0;34m\u001b[0m\u001b[0;34m\u001b[0m\u001b[0m\n",
       "\u001b[0;31mFile:\u001b[0m      ~/opt/anaconda3/lib/python3.7/site-packages/numpy/core/numeric.py\n",
       "\u001b[0;31mType:\u001b[0m      function\n"
      ]
     },
     "metadata": {},
     "output_type": "display_data"
    }
   ],
   "source": [
    "np.array_equal??"
   ]
  },
  {
   "cell_type": "code",
   "execution_count": 13,
   "metadata": {},
   "outputs": [
    {
     "name": "stdout",
     "output_type": "stream",
     "text": [
      "CPU times: user 175 ms, sys: 2.71 ms, total: 178 ms\n",
      "Wall time: 33.9 ms\n"
     ]
    }
   ],
   "source": [
    "a = np.array(np.random.rand(512,512))\n",
    "b = np.array(np.random.rand(512,512))\n",
    "%time for i in range(0,20): a@b"
   ]
  },
  {
   "cell_type": "code",
   "execution_count": 14,
   "metadata": {},
   "outputs": [
    {
     "name": "stdout",
     "output_type": "stream",
     "text": [
      "Variable   Type         Data/Info\n",
      "---------------------------------\n",
      "a          ndarray      512x512: 262144 elems, type `float64`, 2097152 bytes (2.0 Mb)\n",
      "b          ndarray      512x512: 262144 elems, type `float64`, 2097152 bytes (2.0 Mb)\n",
      "data       dict         n=4\n",
      "i          int          19\n",
      "iris       DataFrame         sepal_length  sepal_<...>          1.8   virginica\n",
      "matmul     function     <function matmul at 0x1a163977a0>\n",
      "names      list         n=3\n",
      "np         module       <module 'numpy' from '/Us<...>kages/numpy/__init__.py'>\n",
      "pd         module       <module 'pandas' from '/U<...>ages/pandas/__init__.py'>\n",
      "plt        module       <module 'matplotlib.pyplo<...>es/matplotlib/pyplot.py'>\n",
      "sns        module       <module 'seaborn' from '/<...>ges/seaborn/__init__.py'>\n",
      "t          ndarray      25: 25 elems, type `float64`, 200 bytes\n",
      "values     list         n=3\n",
      "x          int          4\n"
     ]
    }
   ],
   "source": [
    "%whos"
   ]
  },
  {
   "cell_type": "code",
   "execution_count": 15,
   "metadata": {},
   "outputs": [
    {
     "name": "stdout",
     "output_type": "stream",
     "text": [
      "matmul(a,b)\n",
      "np.*array*?\n",
      "np.array_equal??\n",
      "a = np.array(np.random.rand(512,512))\n",
      "b = np.array(np.random.rand(512,512))\n",
      "%time for i in range(0,20): a@b\n",
      "%whos\n"
     ]
    }
   ],
   "source": [
    "%history -l 5"
   ]
  },
  {
   "cell_type": "markdown",
   "metadata": {},
   "source": [
    "# Jupyter Extensions\n",
    "\n",
    "There are many extensions to Jupyter Notebooks.  After all a jupyter notebook is just a JSON file, so you can read the JSON in and manipulate and transform things however you want!  There are many features, such as variable explorers, auto code timers, and more - but I find I that most are unneccesary.  About half the people I talk to don't use any, and the other half use several.\n",
    "\n",
    "# NBDEV\n",
    "\n",
    "NBdev is a jupyter extension/python library that allows you to do full development projects in Jupyter Notebooks.  There have been books and libraries written entirely in Jupyter notebooks, including testing frameworks and unit testing that goes with them.  A common misconception is that Jupyter notebooks cannot be used for that, though many people already have. \n",
    "\n",
    "There are many features NBdev adds.  Here's a few.\n",
    "\n",
    "![](images/1200px-Jupyter_logo.svg.png)\n",
    "\n",
    "Using notebooks written like this, nbdev can create and run any of the following with a single command:\n",
    "\n",
    "+ Searchable, hyperlinked documentation; any word you surround in backticks will by automatically hyperlinked to the appropriate documentation\n",
    "+ Cells in jupyter notebook marked with #export will be exported automatically to a python module\n",
    "+ Python modules, following best practices such as automatically defining __ all __ (more details) with your exported functions, classes, and variables\n",
    "+ Pip installers (uploaded to pypi for you)\n",
    "+ Tests (defined directly in your notebooks, and run in parallel). \n",
    "+ Navigate and edit your code in a standard text editor or IDE, and export any changes automatically back into your notebooks\n",
    "\n",
    "I reccomend checking them out for more detail https://github.com/fastai/nbdev"
   ]
  }
 ],
 "metadata": {
  "kernelspec": {
   "display_name": "Python 3",
   "language": "python",
   "name": "python3"
  },
  "language_info": {
   "codemirror_mode": {
    "name": "ipython",
    "version": 3
   },
   "file_extension": ".py",
   "mimetype": "text/x-python",
   "name": "python",
   "nbconvert_exporter": "python",
   "pygments_lexer": "ipython3",
   "version": "3.7.4"
  }
 },
 "nbformat": 4,
 "nbformat_minor": 4
}
