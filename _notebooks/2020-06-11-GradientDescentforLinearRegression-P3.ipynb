{
 "cells": [
  {
   "cell_type": "markdown",
   "metadata": {},
   "source": [
    "# Gradient Descent for Linear Regression (Part 3)\n",
    "> Under the hood of gradient descent for model optimization\n",
    "\n",
    "- toc: true \n",
    "- badges: true\n",
    "- comments: true\n",
    "- author: Isaac Flath\n",
    "- categories: [Gradient Descent]"
   ]
  },
  {
   "cell_type": "markdown",
   "metadata": {},
   "source": [
    "# Why part 3?\n",
    "\n",
    "I have done a couple blog posts on Gradient Descent for linear regression focusing on the basic algorithm.  In this post, I will be covering some more advanced gradient descent algorithms.  I will post as I complete a section rather than waiting until I have every variation posted.  This is partially to show some popular ones, but the more important thing to understand from this post is that all these advanced algorithms are really just minor tweaks on the basic algorithm.\n",
    "\n",
    "# Goal Recap\n",
    "The goal of linear regression is to find parameter values that fit a linear function to data points.  The goodness of fit is measured by a cost function.  The lower the cost, the better the model.  Gradient Descent is a method to minimize a cost function.  Gradient descent is a widely used tool and is used frequently in tuning predictive models.  It’s important to understand the method so you can apply it to various models and are not limited to using black box models.  This approach will use the sum of squares cost function to take a predicted line and slowly change the regression coefficients until the line is a line of best fit.\n",
    "\n",
    "This post will cover the algorithms.  Part 4 of this series will focus on scaling this up to larger datasets.  One of the primary tools of scaling is using stochastic gradient descent, which is just a fancy way to say \"just use a subset of the points instead of all of them\"."
   ]
  },
  {
   "cell_type": "markdown",
   "metadata": {},
   "source": [
    "# Background"
   ]
  },
  {
   "cell_type": "markdown",
   "metadata": {},
   "source": [
    "Our goal is to define the equation $y=\\theta_0+\\theta_1x$.  This is the same thing as $y=mx+b$.  For this post I will use $y=mx+b$ language with $m$ being the slope and $b$ being the y intercept.\n",
    "\n",
    "> Note: In order to adjust $m$, I will take $m$ - <$m$ PathValue> * <adj $\\alpha$>."
   ]
  },
  {
   "cell_type": "markdown",
   "metadata": {},
   "source": [
    "> Note: In order to adjust $b$, I will take $b$ - <$b$ PathValue> * <adj $\\alpha$>.\n",
    "\n",
    "Each of these advanced algorithms either change the Path Value, or change $\\alpha$.  I will show what the calculation for each is for each algorthm is, have a written explanation, and python code that illustrates it."
   ]
  },
  {
   "cell_type": "markdown",
   "metadata": {},
   "source": [
    "# Setup\n",
    "\n",
    "Here is where I load libraries, define my dataset, and create a graphing function."
   ]
  },
  {
   "cell_type": "code",
   "execution_count": 4,
   "metadata": {},
   "outputs": [],
   "source": [
    "#collapse-hide\n",
    "import matplotlib.pyplot as plt\n",
    "import pandas as pd\n",
    "import numpy as np\n",
    "\n",
    "xs = np.random.randint(-100,100,100)\n",
    "ys = xs * np.random.randint(-10,100) + np.random.randint(-2000,2000,100)\n",
    "alpha = 0.0001\n",
    "cycles = 1000\n",
    "\n",
    "def graph_gradient_descent(values,cycles):\n",
    "    plt.scatter(values['x'],values['y'])\n",
    "    plt.scatter(values['x'],values['cycle0'])\n",
    "    plt.scatter(values['x'],values['cycle'+str(cycles)])\n",
    "\n",
    "    labels = ['y','initial','final']\n",
    "    plt.legend(labels)\n",
    "    plt.ylim(-5000,5000)\n",
    "    plt.xlim(-100,100)\n",
    "    plt.show()"
   ]
  },
  {
   "cell_type": "markdown",
   "metadata": {},
   "source": [
    "# Basic Gradient Descent"
   ]
  },
  {
   "cell_type": "markdown",
   "metadata": {},
   "source": [
    "This is the basic gradient descent algorithm that all others are based on.  If you are not clear on how gradient descent works, please refer to the background section for a review or Gradient Descent Part 1 Blog Post for more details.  I will use this same format below for each algorithm, and change only what is necessary for easier comparison."
   ]
  },
  {
   "cell_type": "markdown",
   "metadata": {},
   "source": [
    "### Inputs\n",
    "$\\alpha = 0.01$\n",
    "\n",
    "n = number of data points\n",
    "\n",
    "### New Formulas\n",
    "$\\alpha_{adj} = \\frac{1}{n}\\alpha$\n",
    "\n",
    "$PathValue_m$ = $PathValue_bx$\n",
    "    \n",
    "$PathValue_b = y_{pred}-y_{obs}$"
   ]
  },
  {
   "cell_type": "markdown",
   "metadata": {},
   "source": [
    "Each variation after this does 1 of 3 things to modify this algorithm:\n",
    "+ Adjusts $\\alpha$ by some amount\n",
    "+ Adjust $PathValue$ by some amount.\n",
    "+ Adjust both $\\alpha$ and $PathValue$.\n",
    "\n",
    "Really logically speaking, what else can you do?  These are the only values that are used to adjust our values, so any tweaks must involve those.  We can modify number through addition, subtraction, multiplication, and division:  If you get stuck, try to get back to those basics."
   ]
  },
  {
   "cell_type": "markdown",
   "metadata": {},
   "source": [
    "### Python Function"
   ]
  },
  {
   "cell_type": "code",
   "execution_count": 5,
   "metadata": {},
   "outputs": [
    {
     "data": {
      "image/png": "[encoded data removed]",
      "text/plain": [
       "<Figure size 432x288 with 1 Axes>"
      ]
     },
     "metadata": {
      "needs_background": "light"
     },
     "output_type": "display_data"
    }
   ],
   "source": [
    "def gradient_descent(xs,ys,alpha,cycles):\n",
    "    n = len(xs)\n",
    "    adj_alpha = (1/n)*alpha\n",
    "    \n",
    "    values = pd.DataFrame({'x':xs,'y':ys})\n",
    "    weights = pd.DataFrame({'cycle0':[1,1,0,0]},index=['m','b','pvb','pvm'])\n",
    "    values['cycle0'] = weights['cycle0'].m*values['x'] + weights['cycle0'].b\n",
    "    \n",
    "    for cycle in range(1,cycles+1):\n",
    "        p_cycle_name = 'cycle'+str(cycle-1)\n",
    "        c_cycle_name = 'cycle'+str(cycle)\n",
    "        \n",
    "\n",
    "        path_value_b = sum(values[p_cycle_name]-values['y'])\n",
    "        path_value_m = sum(path_value_b * values['x'])\n",
    "        \n",
    "        new_m = weights[p_cycle_name].m - path_value_m * adj_alpha\n",
    "        new_b = weights[p_cycle_name].b - path_value_b * adj_alpha\n",
    "        \n",
    "        weights[c_cycle_name] = [new_m,\n",
    "                                new_b,\n",
    "                                path_value_m,\n",
    "                                path_value_b]\n",
    "        \n",
    "        y_pred = weights[c_cycle_name].m*values['x'] + weights[c_cycle_name].b\n",
    "        \n",
    "        values[c_cycle_name] = y_pred\n",
    "        \n",
    "    return weights,values\n",
    "        \n",
    "\n",
    "\n",
    "weights, values = gradient_descent(xs,ys,alpha,cycles)\n",
    "\n",
    "graph_gradient_descent(values,cycles)"
   ]
  },
  {
   "cell_type": "markdown",
   "metadata": {},
   "source": [
    "# Momentum"
   ]
  },
  {
   "cell_type": "markdown",
   "metadata": {},
   "source": [
    "### Concept\n",
    "\n",
    "The idea of momentum is to use the previous path values to influence the new path value.  It's taking a weighted average of the previous path value and the new calculation.  This is referred to as momentum because it is using the momentum from previous points to change the size of the step to take.  To control what kind of weighted average is used, we define $\\beta$.\n",
    "\n",
    "This is useful and effective because we want to have very large steps early on, but the closer we get to the optimal values the lower we want our learning rate to be.  This allows us to do that, and if we overshoot then it will average with previous path values and lower the step size.  This allows for larger steps while minimizing the risk of our gradient descent going out of control.\n",
    "\n",
    "### What is different\n",
    "\n",
    "What is different:  $PathValue$ has changed and is using a new input $\\beta$\n",
    "\n",
    "If you look at $PathValue_b$ you will notice a change in this formula.  $PathValue_m$ multiplies $PathValue_b$ by our x value for that point, so it is effected as well."
   ]
  },
  {
   "cell_type": "markdown",
   "metadata": {},
   "source": [
    "### New Inputs\n",
    "\n",
    "$\\beta = 0.9$\n",
    "\n",
    "### New Formulas\n",
    "$\\alpha_{adj} = \\frac{1}{n}\\alpha$\n",
    "\n",
    "$PathValue_m$ = $PathValue_bx$\n",
    "    \n",
    "$PathValue_b = (\\beta)(PathValue_{b_{previous}}) + (1 - \\beta)(y_{pred}-y_{obs})$"
   ]
  },
  {
   "cell_type": "markdown",
   "metadata": {},
   "source": [
    "### Python Function"
   ]
  },
  {
   "cell_type": "code",
   "execution_count": 13,
   "metadata": {},
   "outputs": [
    {
     "data": {
      "image/png": "[encoded data removed]",
      "text/plain": [
       "<Figure size 432x288 with 1 Axes>"
      ]
     },
     "metadata": {
      "needs_background": "light"
     },
     "output_type": "display_data"
    }
   ],
   "source": [
    "beta = 0.9\n",
    "def gradient_descent_momentum(xs,ys,alpha,cycles,beta):\n",
    "    n = len(xs)\n",
    "    adj_alpha = (1/n)*alpha\n",
    "    \n",
    "    values = pd.DataFrame({'x':xs,'y':ys})\n",
    "    weights = pd.DataFrame({'cycle0':[1,1,0,0]},index=['m','b','pvm','pvb'])\n",
    "    values['cycle0'] = weights['cycle0'].m*values['x'] + weights['cycle0'].b\n",
    "    \n",
    "    for cycle in range(1,cycles+1):\n",
    "        p_cycle_name = 'cycle'+str(cycle-1)\n",
    "        c_cycle_name = 'cycle'+str(cycle)\n",
    "        \n",
    "        path_value_b = sum(values[p_cycle_name]-values['y'])\n",
    "        path_value_m = sum(path_value_b * values['x'])\n",
    "        \n",
    "        if cycle > 1:\n",
    "            path_value_b = (beta) * weights[p_cycle_name].pvb + (1-beta) * path_value_b\n",
    "            path_value_m = (beta) * weights[p_cycle_name].pvm + (1-beta) * path_value_m\n",
    "        \n",
    "        new_m = weights[p_cycle_name].m - path_value_m * adj_alpha\n",
    "        new_b = weights[p_cycle_name].b - path_value_b * adj_alpha\n",
    "        \n",
    "        weights[c_cycle_name] = [new_m,\n",
    "                                new_b,\n",
    "                                path_value_m,\n",
    "                                path_value_b]\n",
    "        \n",
    "        y_pred = weights[c_cycle_name].m*values['x'] + weights[c_cycle_name].b\n",
    "        \n",
    "        values[c_cycle_name] = y_pred\n",
    "        \n",
    "    return weights,values\n",
    "\n",
    "weights, values = gradient_descent_momentum(xs,ys,alpha,cycles,beta)\n",
    "\n",
    "graph_gradient_descent(values,cycles)"
   ]
  }
 ],
 "metadata": {
  "kernelspec": {
   "display_name": "Python 3",
   "language": "python",
   "name": "python3"
  },
  "language_info": {
   "codemirror_mode": {
    "name": "ipython",
    "version": 3
   },
   "file_extension": ".py",
   "mimetype": "text/x-python",
   "name": "python",
   "nbconvert_exporter": "python",
   "pygments_lexer": "ipython3",
   "version": "3.7.4"
  }
 },
 "nbformat": 4,
 "nbformat_minor": 4
}
